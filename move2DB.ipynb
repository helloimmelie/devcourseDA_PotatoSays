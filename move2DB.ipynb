{
 "cells": [
  {
   "cell_type": "code",
   "execution_count": 1,
   "id": "d9b36af1",
   "metadata": {},
   "outputs": [],
   "source": [
    "import pymysql\n",
    "\n",
    "import os\n",
    "import json\n",
    "import pandas as pd\n",
    "import numpy as np\n",
    "from tqdm.notebook import tqdm\n",
    "from operator import itemgetter"
   ]
  },
  {
   "cell_type": "code",
   "execution_count": 2,
   "id": "f0f2493c",
   "metadata": {},
   "outputs": [
    {
     "data": {
      "text/plain": [
       "60209"
      ]
     },
     "execution_count": 2,
     "metadata": {},
     "output_type": "execute_result"
    }
   ],
   "source": [
    "match_id_list = pd.read_csv('data/match_id_list.csv', usecols=['match_id'], low_memory=False)\n",
    "match_id_list = match_id_list['match_id']\n",
    "len(match_id_list)"
   ]
  },
  {
   "cell_type": "markdown",
   "id": "8009e7b3",
   "metadata": {},
   "source": [
    "## 데이터 경로"
   ]
  },
  {
   "cell_type": "code",
   "execution_count": 3,
   "id": "55ae68c7",
   "metadata": {},
   "outputs": [],
   "source": [
    "timelineDir = 'data/match_timeline/'\n",
    "matchDir = 'data/match/'"
   ]
  },
  {
   "cell_type": "markdown",
   "id": "e6360389",
   "metadata": {},
   "source": [
    "## DB 연결"
   ]
  },
  {
   "cell_type": "code",
   "execution_count": 4,
   "id": "4dbcf73b",
   "metadata": {},
   "outputs": [
    {
     "data": {
      "text/plain": [
       "0"
      ]
     },
     "execution_count": 4,
     "metadata": {},
     "output_type": "execute_result"
    }
   ],
   "source": [
    "conn = pymysql.connect(\n",
    "    host=\"localhost\",\n",
    "    user='root',\n",
    "    password='240812'\n",
    ")\n",
    "\n",
    "#conn.autocommit(False)\n",
    "cur = conn.cursor()\n",
    "cur.execute('use LOL_data;')"
   ]
  },
  {
   "cell_type": "markdown",
   "id": "7dc8e8f6",
   "metadata": {},
   "source": [
    "## 건님 코드"
   ]
  },
  {
   "cell_type": "code",
   "execution_count": 5,
   "id": "567aeb7d",
   "metadata": {},
   "outputs": [],
   "source": [
    "building_kill = 'BUILDING_KILL'\n",
    "ward_placed = 'WARD_PLACED'\n",
    "elite_monster_kill = 'ELITE_MONSTER_KILL'\n",
    "turret_plate_destroyed = 'TURRET_PLATE_DESTROYED'\n",
    "objective_bounty_prestart = 'OBJECTIVE_BOUNTY_PRESTART'\n",
    "champion_kill = 'CHAMPION_KILL'\n",
    "champion_special_kill = 'CHAMPION_SPECIAL_KILL'\n",
    "item_destroyed = 'ITEM_DESTROYED'\n",
    "item_purchased = 'ITEM_PURCHASED'\n",
    "item_sold = \"ITEM_SOLD\"\n",
    "game_end = \"GAME_END\"\n",
    "level_up = \"LEVEL_UP\"\n",
    "skill_level_up = \"SKILL_LEVEL_UP\"\n",
    "ward_kill =  \"WARD_KILL\"\n",
    "item_undo = \"ITEM_UNDO\"\n",
    "\n"
   ]
  },
  {
   "cell_type": "code",
   "execution_count": 6,
   "id": "cff018a9",
   "metadata": {},
   "outputs": [],
   "source": [
    "def assist_id_list2int(data): # assist ID의 리스트를 integer로 변환\n",
    "    data = [1 if x in data else 0 for x in range(11)]\n",
    "    return int(''.join(map(str, data)), 2)\n",
    "\n",
    "def get_assist_id_list(data): # integer를 assist ID의 리스트로 변환\n",
    "    data = ''.join(['0' for x in range(11 - len(bin(data)[2:]))]) + bin(data)[2:]\n",
    "    return [i for i in range(len(data)) if data[i] == '1']\n",
    "\n",
    "def query_insert_buildingKill(event, matchID):\n",
    "    if 'assistingParticipantIds' in event.keys():\n",
    "        event['assist_id'] = assist_id_list2int(event['assistingParticipantIds'])\n",
    "    else: event['assist_id'] = 'null'\n",
    "\n",
    "    if 'towerType' not in event.keys(): event['towerType'] = 'null'\n",
    "        \n",
    "    return f'''insert into {building_kill} (match_id, assist_id, bounty, building_type, participant_id, line_type, team_id, timestamp, tower_type)\n",
    "            values ({matchID}, {event['assist_id']}, {event['bounty']}, '{event['buildingType']}', {event['killerId']}, '{event['laneType']}',\n",
    "            {event['teamId']}, {event['timestamp']}, '{event['towerType']}');'''\n",
    "\n",
    "def query_insert_wardPlaced(event, matchID):\n",
    "    return f'''insert into {ward_placed} (match_id, participant_id, timestamp, ward_type)\n",
    "            values ({matchID}, {event['creatorId']}, {event['timestamp']}, '{event['wardType']}');'''\n",
    "\n",
    "def query_insert_eliteMonsterKill(event, matchID):\n",
    "    if 'assistingParticipantIds' in event.keys():\n",
    "        event['assist_id'] = assist_id_list2int(event['assistingParticipantIds'])\n",
    "    else: event['assist_id'] = 'null'\n",
    "\n",
    "    if 'monsterSubType' not in event.keys():\n",
    "        event['monsterSubType'] = 'null'\n",
    "\n",
    "    return f'''insert into {elite_monster_kill} (match_id, assist_id, bounty, participant_id, monster_subtype, monster_type, timestamp)\n",
    "            values ({matchID}, {event['assist_id']}, {event['bounty']}, {event['killerId']}, '{event['monsterSubType']}', '{event['monsterType']}',\n",
    "            {event['timestamp']});'''\n",
    "\n",
    "def query_insert_turretPlateDestroyed(event, matchID):\n",
    "    return f'''insert into {turret_plate_destroyed} (match_id, participant_id, line_type, team_id, timestamp)\n",
    "            values ({matchID}, {event['killerId']}, '{event['laneType']}', {event['teamId']}, {event['timestamp']});'''\n",
    "\n",
    "def query_insert_objectiveBountyPrestart(event, matchID):\n",
    "    return f'''insert into {objective_bounty_prestart} (match_id, actual_starttime, team_id, timestamp)\n",
    "            values ({matchID}, {event['actualStartTime']}, {event['teamId']}, {event['timestamp']});'''\n",
    "\n",
    "def query_insert_championKill(event, matchID):\n",
    "    if 'assistingParticipantIds' in event.keys():\n",
    "        event['assist_id'] = assist_id_list2int(event['assistingParticipantIds'])\n",
    "    else: event['assist_id'] = 'null'\n",
    "\n",
    "    return f'''insert into {champion_kill} (match_id, assist_id, bounty, killstreak_length, participant_id, shutdown_bounty, timestamp, victim_id)\n",
    "            values ({matchID}, {event['assist_id']}, {event['bounty']}, {event['killStreakLength']}, {event['killerId']}, {event['shutdownBounty']},\n",
    "            {event['timestamp']}, {event['victimId']});'''\n",
    "\n",
    "def query_insert_championSpecialKill(event, matchID):\n",
    "    if 'multiKillLength' not in event.keys() or event['multiKillLength'] == None:\n",
    "        event['multiKillLength'] = 'null'\n",
    "        \n",
    "    return f'''insert into {champion_special_kill} (match_id, kill_type, participant_id, multikil_length, timestamp)\n",
    "            values ({matchID}, '{event['killType']}', {event['killerId']}, {event['multiKillLength']}, {event['timestamp']});'''\n",
    "\n",
    "def query_insert_itemDestroyed(event, matchID):\n",
    "    return f'''insert into {item_destroyed} (match_id, item_id, participant_id, timestamp)\n",
    "            values ({matchID}, {event['itemId']}, {event['participantId']}, {event['timestamp']});'''\n",
    "\n",
    "def query_insert_itemPurchased(event, matchID):\n",
    "    return f'''insert into {item_purchased} (match_id, item_id, participant_id, timestamp)\n",
    "            values ({matchID}, {event['itemId']}, {event['participantId']}, {event['timestamp']});'''\n",
    "\n"
   ]
  },
  {
   "cell_type": "code",
   "execution_count": null,
   "id": "bf400db4",
   "metadata": {},
   "outputs": [],
   "source": []
  },
  {
   "cell_type": "markdown",
   "id": "f0ca9ee9",
   "metadata": {},
   "source": [
    "## 수진님 코드"
   ]
  },
  {
   "cell_type": "code",
   "execution_count": 7,
   "id": "17e79232",
   "metadata": {},
   "outputs": [],
   "source": [
    "champstatscols = {\n",
    "    'abilityHaste': 'abilityHaste',\n",
    "    'abilityPower': 'abilityPower',\n",
    "    'armor': 'armor',\n",
    "    'armorPen': 'armorpen',\n",
    "    'armorPenPercent': 'armorpen_percent',\n",
    "    'attackDamage': 'attackdamage',\n",
    "    'attackSpeed': 'attackspeed',\n",
    "    'bonusArmorPenPercent': 'bonus_app',\n",
    "    'bonusMagicPenPercent': 'bonus_mpp',\n",
    "    'ccReduction': 'cc_reduction',\n",
    "    'cooldownReduction': 'cd_reduction',\n",
    "    'health': 'health',\n",
    "    'healthMax': 'health_max',\n",
    "    'healthRegen': 'health_regen',\n",
    "    'lifesteal': 'lifesteal',\n",
    "    'magicPen': 'magicpen',\n",
    "    'magicPenPercent': 'magicpenpercent',\n",
    "    'magicResist': 'magicresist',\n",
    "    'movementSpeed': 'movement_speed',\n",
    "    'omnivamp': 'omnivamp',\n",
    "    'physicalVamp': 'physicalvamp',\n",
    "    'power': 'power',\n",
    "    'powerMax': 'power_max',\n",
    "    'powerRegen': 'power_regen',\n",
    "    'spellVamp': 'spellvamp',\n",
    "    'participantId': 'participant_id',\n",
    "    'currentGold': 'current_gold',\n",
    "    'magicDamageDone': 'magic__damage_done',\n",
    "    'magicDamageDoneToChampions': 'mdd_to_champion',\n",
    "    'magicDamageTaken': 'magic_damage_taken',\n",
    "    'physicalDamageDone': 'physic_damage_done',\n",
    "    'physicalDamageDoneToChampions': 'pdd_to_champion',\n",
    "    'physicalDamageTaken': 'physic_damage_taken',\n",
    "    'totalDamageDone': 'toal_damage_done',\n",
    "    'totalDamageDoneToChampions': 'tdd_to_champion',\n",
    "    'totalDamageTaken': 'total_damage_taken',\n",
    "    'trueDamageDone': 'true_damage_done',\n",
    "    'trueDamageDoneToChampions': 'truedamage_to_champion',\n",
    "    'trueDamageTaken': 'true_damage_taken',\n",
    "    'goldPerSecond': 'gold_per_second',\n",
    "    'jungleMinionKilled': 'jungle_killed',\n",
    "    'level': 'level',\n",
    "    'minionKilled': 'minion_killed',\n",
    "    'timeEnemySpendControlled': 'time_enemy_controlled',\n",
    "    'totalGold': 'total_gold',\n",
    "    'xp': 'xp',\n",
    "    'timestamp': 'timestamp'\n",
    "}"
   ]
  },
  {
   "cell_type": "code",
   "execution_count": 8,
   "id": "779faab6",
   "metadata": {},
   "outputs": [],
   "source": [
    "def getChampionData(matchData):\n",
    "    championList = list()\n",
    "    matchId = matchData['metadata']['matchId'] \n",
    "    matchId = matchId.split('_')[1]\n",
    "    for championData in matchData['info']['participants']:\n",
    "        values = itemgetter(*['participantId', 'championId'])(championData)\n",
    "        championList.append((matchId,)+ values  )\n",
    "\n",
    "    cols = ['match_id', 'participant_id', 'champion_id']\n",
    "    championDataDf= pd.DataFrame(championList, columns = cols, ) # ['matchId', 'participantId', 'championId']\n",
    "    championDataDf.to_sql('champion_participant_id', con=cur, if_exists='append', index=False)\n",
    "\n",
    "    return matchId\n",
    "\n",
    "def getChampionStats(infoFrameData, matchId):\n",
    "    resultFrame = []\n",
    "    for i in range(0, len(infoFrameData),1):\n",
    "        for pN in range(1, 9, 1):\n",
    "            resultFrame.append({**infoFrameData[i]['participantFrames'][str(pN)]['championStats'],\\\n",
    "                       'participantId' : infoFrameData[i]['participantFrames'][str(pN)]['participantId'],\\\n",
    "                       'currentGold': infoFrameData[i]['participantFrames'][str(pN)]['currentGold'],\\\n",
    "                        **infoFrameData[i]['participantFrames'][str(pN)]['damageStats'],\\\n",
    "                        'goldPerSecond':infoFrameData[i]['participantFrames'][str(pN)]['goldPerSecond'],\\\n",
    "                        'jungleMinionKilled': infoFrameData[i]['participantFrames'][str(pN)]['jungleMinionsKilled'],\\\n",
    "                        'level': infoFrameData[i]['participantFrames'][str(pN)]['level'],\\\n",
    "                        'minionKilled': infoFrameData[i]['participantFrames'][str(pN)]['minionsKilled'],\\\n",
    "                        'timeEnemySpendControlled':infoFrameData[i]['participantFrames'][str(pN)]['timeEnemySpentControlled'],\\\n",
    "                        'totalGold':infoFrameData[i]['participantFrames'][str(pN)]['totalGold'],\\\n",
    "                        'xp':infoFrameData[i]['participantFrames'][str(pN)]['xp'], 'timestamp': i},)\n",
    "    \n",
    "    resultFrameDf = pd.DataFrame(resultFrame).rename(columns=champstatscols)\n",
    "    resultFrameDf['match_id'] = matchId\n",
    "\n",
    "    resultFrameDf.to_sql('champion_stat_per_timestamp', con=conn, if_exists='append', index=False)\n",
    "\n",
    "def convertToDf(bucketData,  matchId):\n",
    "    \n",
    "    bucketDf = pd.DataFrame(bucketData)\n",
    "    \n",
    "    bucketDf['matchId'] = int(matchId)\n",
    "\n",
    "    if 'type' in bucketDf.columns:\n",
    "        bucketDf = bucketDf.drop(columns=['type'])\n",
    "\n",
    "    return bucketDf\n",
    "\n",
    "def getgameLogData(matchLineData, matchId, engine):\n",
    "    \n",
    "    itemSoldBucket = list()\n",
    "    gameEndBucket = list()\n",
    "    levelUpBucket = list()\n",
    "    skilLevelUpBucket = list()\n",
    "    wardKillBucket = list()\n",
    "\n",
    "    for i in range(0, len(matchLineData),1):\n",
    "        elementData = matchLineData[i]['events']\n",
    "\n",
    "        for e in elementData : \n",
    "                if e['type'] == \"ITEM_SOLD\":\n",
    "                        itemSoldBucket.append(e)\n",
    "    \n",
    "                if e['type'] == \"GAME_END\":\n",
    "                        gameEndBucket.append(e)\n",
    "    \n",
    "                if e['type'] == \"LEVEL_UP\":\n",
    "                        levelUpBucket.append(e)\n",
    "\n",
    "                if e['type'] == \"SKILL_LEVEL_UP\":\n",
    "                        skilLevelUpBucket.append(e)\n",
    "    \n",
    "                if e['type'] ==  \"WARD_KILL\":\n",
    "                        wardKillBucket.append(e)\n",
    "    \n",
    "\n",
    "\n",
    "\n",
    "    itemSoldDf = convertToDf(itemSoldBucket, matchId).drop('type', axis=1)\n",
    "    gameEndDf = convertToDf(gameEndBucket, matchId).drop(['type', 'gameId'], axis=1)\n",
    "    levelUpDf = convertToDf(levelUpBucket, matchId).drop('type', axis=1)\n",
    "    skillLevelUpDf = convertToDf(skilLevelUpBucket, matchId).drop('type', axis=1)\n",
    "    wardKillDf = convertToDf(wardKillBucket, matchId).drop('type', axis=1)\n",
    "\n",
    "    itemSoldDf.columns = ['item_id', 'participant_id', 'timestamp', 'match_id']\n",
    "    gameEndDf.columns = ['real_timestamp', 'timestamp', 'winning_team', 'match_id']\n",
    "    levelUpDf.columns = ['level', 'participant_id', 'timestamp', 'match_id']\n",
    "    skillLevelUpDf.columns = ['levelup_type', 'participant_id', 'skill_slot', 'timestamp', 'match_id']\n",
    "    wardKillDf.columns = ['participant_id', 'timestamp', 'ward_type', 'match_id']\n",
    "\n",
    "    itemSoldDf.to_sql(item_sold, con=engine, if_exists='append', index=False)\n",
    "    gameEndDf.to_sql(game_end, con=engine, if_exists='append', index=False)\n",
    "    levelUpDf.to_sql(level_up, con=engine, if_exists='append', index=False)\n",
    "    skillLevelUpDf.to_sql(skill_level_up, con=engine, if_exists='append', index=False)\n",
    "    wardKillDf.to_sql(ward_kill, con=engine, if_exists='append', index=False)\n",
    "\n",
    "\n",
    "    #각각 csv로 변환\n",
    "\n",
    "    # itemSoldDf.to_csv(os.path.join(fileOutputDir, f'{matchId}_ITEM_SOLD.csv'))\n",
    "    # gameEndDf.to_csv( os.path.join(fileOutputDir, f'{matchId}_GAME_END.csv'))\n",
    "    # levelUpDf.to_csv( os.path.join(fileOutputDir, f'{matchId}_LEVEL_UP.csv'))\n",
    "    # skillLevelUpDf.to_csv( os.path.join(fileOutputDir, f'{matchId}_SKILL_LEVEL_UP.csv'))\n",
    "    # wardKillDf.to_csv( os.path.join(fileOutputDir, f'{matchId}_WARD_KILL.csv'))\n",
    "\n",
    "    #return  itemSoldDf, gameEndDf, levelUpDf, skillLevelUpDf, wardKillDf"
   ]
  },
  {
   "cell_type": "markdown",
   "id": "c1523843",
   "metadata": {},
   "source": [
    "## 창길 코드"
   ]
  },
  {
   "cell_type": "markdown",
   "id": "2c9301b0",
   "metadata": {},
   "source": [
    "수진님 코드 수정"
   ]
  },
  {
   "cell_type": "code",
   "execution_count": 9,
   "id": "64f5c743",
   "metadata": {},
   "outputs": [],
   "source": [
    "def insert_championParticipantID(matchData, matchID, cur):\n",
    "    for (idx, championData) in enumerate(matchData['info']['participants']):\n",
    "        champID = championData['championId']\n",
    "        query = f'''insert into champion_participant_id (match_id, participant_id, champion_id) values ({matchID}, {idx+1}, {champID});'''\n",
    "        cur.execute(query)\n",
    "\n",
    "def insert_championStats(frameData, matchID,cur):\n",
    "    for pN in range(1, 11, 1):\n",
    "        query = f'''insert into champion_stat_per_timestamp \n",
    "                    (match_id, participant_id, timestamp,\n",
    "                     abilityHaste, abilityPower,\n",
    "                     armor, armorpen, armorpen_percent, attackdamage, attackspeed, \n",
    "                     bonus_app, bonus_mpp, cc_reduction, cd_reduction, \n",
    "                     health, health_max, health_regen, lifesteal, magicpen, magicpenpercent, magicresist, movement_speed, \n",
    "                     omnivamp, physicalvamp, power, power_max, power_regen, spellvamp, current_gold, \n",
    "                     magic__damage_done, mdd_to_champion, magic_damage_taken, \n",
    "                     physic_damage_done, pdd_to_champion, physic_damage_taken, \n",
    "                     toal_damage_done, tdd_to_champion, total_damage_taken, \n",
    "                     true_damage_done, truedamage_to_champion, true_damage_taken, \n",
    "                     gold_per_second, jungle_killed, level, minion_killed, time_enemy_controlled, total_gold, xp) \n",
    "                     values (\n",
    "                    {matchID}, \n",
    "                    {pN},\n",
    "                    {frameData['timestamp']},\n",
    "                    {frameData['participantFrames'][str(pN)]['championStats']['abilityHaste']}, \n",
    "                    {frameData['participantFrames'][str(pN)]['championStats']['abilityPower']}, \n",
    "                    {frameData['participantFrames'][str(pN)]['championStats']['armor']}, \n",
    "                    {frameData['participantFrames'][str(pN)]['championStats']['armorPen']}, \n",
    "                    {frameData['participantFrames'][str(pN)]['championStats']['armorPenPercent']}, \n",
    "                    {frameData['participantFrames'][str(pN)]['championStats']['attackDamage']}, \n",
    "                    {frameData['participantFrames'][str(pN)]['championStats']['attackSpeed']}, \n",
    "                    {frameData['participantFrames'][str(pN)]['championStats']['bonusArmorPenPercent']}, \n",
    "                    {frameData['participantFrames'][str(pN)]['championStats']['bonusMagicPenPercent']}, \n",
    "                    {frameData['participantFrames'][str(pN)]['championStats']['ccReduction']}, \n",
    "                    {frameData['participantFrames'][str(pN)]['championStats']['cooldownReduction']}, \n",
    "                    {frameData['participantFrames'][str(pN)]['championStats']['health']}, \n",
    "                    {frameData['participantFrames'][str(pN)]['championStats']['healthMax']},\n",
    "                    {frameData['participantFrames'][str(pN)]['championStats']['healthRegen']},\n",
    "                    {frameData['participantFrames'][str(pN)]['championStats']['lifesteal']},\n",
    "                    {frameData['participantFrames'][str(pN)]['championStats']['magicPen']},\n",
    "                    {frameData['participantFrames'][str(pN)]['championStats']['magicPenPercent']},\n",
    "                    {frameData['participantFrames'][str(pN)]['championStats']['magicResist']},\n",
    "                    {frameData['participantFrames'][str(pN)]['championStats']['movementSpeed']},\n",
    "                    {frameData['participantFrames'][str(pN)]['championStats']['omnivamp']},\n",
    "                    {frameData['participantFrames'][str(pN)]['championStats']['physicalVamp']},\n",
    "                    {frameData['participantFrames'][str(pN)]['championStats']['power']},\n",
    "                    {frameData['participantFrames'][str(pN)]['championStats']['powerMax']},\n",
    "                    {frameData['participantFrames'][str(pN)]['championStats']['powerRegen']},\n",
    "                    {frameData['participantFrames'][str(pN)]['championStats']['spellVamp']},\n",
    "                    {frameData['participantFrames'][str(pN)]['currentGold']},\n",
    "                    {frameData['participantFrames'][str(pN)]['damageStats']['magicDamageDone']},\n",
    "                    {frameData['participantFrames'][str(pN)]['damageStats']['magicDamageDoneToChampions']},\n",
    "                    {frameData['participantFrames'][str(pN)]['damageStats']['magicDamageTaken']},\n",
    "                    {frameData['participantFrames'][str(pN)]['damageStats']['physicalDamageDone']},\n",
    "                    {frameData['participantFrames'][str(pN)]['damageStats']['physicalDamageDoneToChampions']},\n",
    "                    {frameData['participantFrames'][str(pN)]['damageStats']['physicalDamageTaken']},\n",
    "                    {frameData['participantFrames'][str(pN)]['damageStats']['totalDamageDone']},\n",
    "                    {frameData['participantFrames'][str(pN)]['damageStats']['totalDamageDoneToChampions']},\n",
    "                    {frameData['participantFrames'][str(pN)]['damageStats']['totalDamageTaken']},\n",
    "                    {frameData['participantFrames'][str(pN)]['damageStats']['trueDamageDone']},\n",
    "                    {frameData['participantFrames'][str(pN)]['damageStats']['trueDamageDoneToChampions']},\n",
    "                    {frameData['participantFrames'][str(pN)]['damageStats']['trueDamageTaken']},\n",
    "                    {frameData['participantFrames'][str(pN)]['goldPerSecond']},\n",
    "                    {frameData['participantFrames'][str(pN)]['jungleMinionsKilled']},\n",
    "                    {frameData['participantFrames'][str(pN)]['level']},\n",
    "                    {frameData['participantFrames'][str(pN)]['minionsKilled']},\n",
    "                    {frameData['participantFrames'][str(pN)]['timeEnemySpentControlled']},\n",
    "                    {frameData['participantFrames'][str(pN)]['totalGold']},\n",
    "                    {frameData['participantFrames'][str(pN)]['xp']});'''\n",
    "        cur.execute(query)\n"
   ]
  },
  {
   "cell_type": "code",
   "execution_count": 10,
   "id": "57da68e0",
   "metadata": {},
   "outputs": [],
   "source": [
    "def query_insert_gameEnd(event, matchID):\n",
    "    return f'''insert into {game_end} (match_id, real_timestamp, timestamp, winning_team)\n",
    "            values ({matchID}, {event['realTimestamp']}, {event['timestamp']}, {event['winningTeam']});'''\n",
    "def query_insert_itemSold(event, matchID):\n",
    "    return f'''insert into {item_sold} (match_id, item_id, participant_id, timestamp)\n",
    "            values ({matchID}, {event['itemId']}, {event['participantId']}, {event['timestamp']});'''\n",
    "def query_insert_levelUp(event, matchID):\n",
    "    return f'''insert into {level_up} (match_id, level, participant_id, timestamp)\n",
    "            values ({matchID}, {event['level']}, {event['participantId']}, {event['timestamp']});'''\n",
    "def query_insert_skillLevelUp(event, matchID):\n",
    "    return f'''insert into {skill_level_up} (match_id, levelup_type, participant_id, skill_slot, timestamp)\n",
    "            values ({matchID}, '{event['levelUpType']}', {event['participantId']}, {event['skillSlot']}, {event['timestamp']});'''\n",
    "def query_insert_wardKill(event, matchID):\n",
    "    return f'''insert into {ward_kill} (match_id, participant_id, timestamp, ward_type)\n",
    "            values ({matchID}, {event['killerId']}, {event['timestamp']}, '{event['wardType']}');'''"
   ]
  },
  {
   "cell_type": "markdown",
   "id": "4c1976e8",
   "metadata": {},
   "source": [
    "건님코드 수정"
   ]
  },
  {
   "cell_type": "code",
   "execution_count": 11,
   "id": "58b72532",
   "metadata": {},
   "outputs": [],
   "source": [
    "event_insert_func_dict = {\n",
    "    building_kill: query_insert_buildingKill, #\n",
    "    turret_plate_destroyed: query_insert_turretPlateDestroyed, #\n",
    "    ward_placed: query_insert_wardPlaced, #\n",
    "    ward_kill: query_insert_wardKill, #\n",
    "    elite_monster_kill: query_insert_eliteMonsterKill, #\n",
    "    objective_bounty_prestart: query_insert_objectiveBountyPrestart, #\n",
    "    champion_kill: query_insert_championKill, #\n",
    "    champion_special_kill: query_insert_championSpecialKill, #\n",
    "    item_destroyed: query_insert_itemDestroyed, \n",
    "    item_purchased: query_insert_itemPurchased,\n",
    "    item_sold: query_insert_itemSold,\n",
    "    level_up: query_insert_levelUp,\n",
    "    skill_level_up: query_insert_skillLevelUp,\n",
    "    game_end: query_insert_gameEnd\n",
    "}\n",
    "def insert_events(match, match_tl, cur):\n",
    "    # match id 추출\n",
    "    matchID = int(match_tl['metadata']['matchId'].split('_')[-1])\n",
    "    \n",
    "    # 참가자 id, 챔피언 id 삽입\n",
    "    insert_championParticipantID(match, matchID, cur)\n",
    "\n",
    "    for frame in match_tl['info']['frames']:\n",
    "        # 이벤트 삽입\n",
    "        for event in frame['events']:\n",
    "            # print(event['type'])\n",
    "            if event['type'] in event_insert_func_dict.keys():\n",
    "                query = event_insert_func_dict[event['type']](event, matchID)\n",
    "            else:\n",
    "                #print(f'Unknown event type: {event[\"type\"]}')\n",
    "                query = None\n",
    "\n",
    "            if query:\n",
    "                #print(query)\n",
    "                cur.execute(query)\n",
    "        # 챔피언 스펙 삽입\n",
    "        insert_championStats(frame, matchID, cur)"
   ]
  },
  {
   "cell_type": "markdown",
   "id": "86059f3e",
   "metadata": {},
   "source": [
    "솔로랭크 매치인지 확인"
   ]
  },
  {
   "cell_type": "code",
   "execution_count": 12,
   "id": "a468a25b",
   "metadata": {},
   "outputs": [],
   "source": [
    "# find solo rank 5x5 match\n",
    "def isSoloRank(match):\n",
    "    return match['info']['queueId'] == 420"
   ]
  },
  {
   "cell_type": "code",
   "execution_count": 13,
   "id": "28481396",
   "metadata": {},
   "outputs": [
    {
     "name": "stdout",
     "output_type": "stream",
     "text": [
      "KR_7346623650 True\n"
     ]
    }
   ],
   "source": [
    "## test\n",
    "# read match file\n",
    "match = json.load(open(matchDir+match_id_list[0]+'.json', 'r'))\n",
    "match_tl = json.load(open(timelineDir+match_id_list[0]+'.json', 'r'))\n",
    "\n",
    "print(match_id_list[0], isSoloRank(match))"
   ]
  },
  {
   "cell_type": "markdown",
   "id": "8a3a7690",
   "metadata": {},
   "source": [
    "삽입 테스트"
   ]
  },
  {
   "cell_type": "code",
   "execution_count": 14,
   "id": "b3275293",
   "metadata": {},
   "outputs": [],
   "source": [
    "insert_events(match, match_tl, cur)"
   ]
  },
  {
   "cell_type": "markdown",
   "id": "94e1a965",
   "metadata": {},
   "source": [
    "## 실행코드"
   ]
  },
  {
   "cell_type": "code",
   "execution_count": 15,
   "id": "909e8c8a",
   "metadata": {},
   "outputs": [],
   "source": [
    "import warnings\n",
    "from datetime import datetime\n",
    "\n",
    "warnings.filterwarnings(\"ignore\")"
   ]
  },
  {
   "cell_type": "code",
   "execution_count": null,
   "id": "4982acd4",
   "metadata": {},
   "outputs": [
    {
     "name": "stdout",
     "output_type": "stream",
     "text": [
      "시작 시각: 2024-11-07 12:56:04\n"
     ]
    },
    {
     "data": {
      "application/vnd.jupyter.widget-view+json": {
       "model_id": "59a8a7be8bcd45e5917377ee0ca4aea0",
       "version_major": 2,
       "version_minor": 0
      },
      "text/plain": [
       "  0%|          | 0/60209 [00:00<?, ?it/s]"
      ]
     },
     "metadata": {},
     "output_type": "display_data"
    }
   ],
   "source": [
    "now = datetime.now()\n",
    "formatted_time = now.strftime(\"%Y-%m-%d %H:%M:%S\")\n",
    "print(\"시작 시각:\", formatted_time)\n",
    "\n",
    "# cnt = 0\n",
    "regame = []\n",
    "nosolo = []\n",
    "exceps = []\n",
    "for e in tqdm(list(match_id_list)):\n",
    "    try:\n",
    "        matchPath = matchDir + e + '.json'\n",
    "        matchTimelineDir = timelineDir + e + '.json'\n",
    "\n",
    "        # 파일 있는지 확인\n",
    "        if os.path.isfile(matchPath) and os.path.isfile(matchTimelineDir):\n",
    "            with open( matchTimelineDir ) as f:\n",
    "                match_tl = json.load(f)\n",
    "            with open( matchPath ) as f:\n",
    "                match = json.load(f)\n",
    "            \n",
    "            if not isSoloRank(match):\n",
    "                print('not SoloRank :', e)\n",
    "                nosolo.append(e)\n",
    "                continue\n",
    "    \n",
    "            # 5분 미만 게임 제외\n",
    "            if len(match_tl['info']['frames']) < 5:\n",
    "                print('다시하기 ', e)\n",
    "                regame.append(e)\n",
    "                continue\n",
    "            \n",
    "            insert_events(match,match_tl, cur)\n",
    "            conn.commit()\n",
    "        else: \n",
    "            continue\n",
    "    except Exception as err:\n",
    "        print('error ', e, err)\n",
    "        exceps.append((e, err))\n",
    "        continue\n",
    "\n",
    "now2 = datetime.now()\n",
    "\n",
    "formatted_time = now2.strftime(\"%Y-%m-%d %H:%M:%S\")\n",
    "print(\"마무리 시각:\", formatted_time)\n",
    "print(f\"소요 시간: 약 {(now2 - now).total_seconds() / 60}분\")\n",
    "print(f'regame count: {len(regame)} / exception count: {len(exceps)}')"
   ]
  }
 ],
 "metadata": {
  "kernelspec": {
   "display_name": "py311",
   "language": "python",
   "name": "python3"
  },
  "language_info": {
   "codemirror_mode": {
    "name": "ipython",
    "version": 3
   },
   "file_extension": ".py",
   "mimetype": "text/x-python",
   "name": "python",
   "nbconvert_exporter": "python",
   "pygments_lexer": "ipython3",
   "version": "3.11.8"
  }
 },
 "nbformat": 4,
 "nbformat_minor": 5
}
