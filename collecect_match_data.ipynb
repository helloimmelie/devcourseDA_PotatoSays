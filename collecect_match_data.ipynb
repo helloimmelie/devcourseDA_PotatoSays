{
 "cells": [
  {
   "cell_type": "code",
   "execution_count": 1,
   "metadata": {},
   "outputs": [
    {
     "name": "stderr",
     "output_type": "stream",
     "text": [
      "/Users/cgjeong/Library/Python/3.9/lib/python/site-packages/urllib3/__init__.py:34: NotOpenSSLWarning: urllib3 v2.0 only supports OpenSSL 1.1.1+, currently the 'ssl' module is compiled with 'LibreSSL 2.8.3'. See: https://github.com/urllib3/urllib3/issues/3020\n",
      "  warnings.warn(\n"
     ]
    }
   ],
   "source": [
    "from riot_api_utils import riot_api_utils\n",
    "import pandas as pd\n",
    "import numpy as np\n",
    "import json"
   ]
  },
  {
   "cell_type": "markdown",
   "metadata": {},
   "source": [
    "### API Key"
   ]
  },
  {
   "cell_type": "code",
   "execution_count": 2,
   "metadata": {},
   "outputs": [],
   "source": [
    "api_key = \"RGAPI-6eda9521-a7e3-4807-82db-1e3cb0e83bb7\"\n",
    "riot = riot_api_utils.riot_api_utils(api_key)"
   ]
  },
  {
   "cell_type": "markdown",
   "metadata": {},
   "source": [
    "## C, GM user list"
   ]
  },
  {
   "cell_type": "code",
   "execution_count": 3,
   "metadata": {},
   "outputs": [],
   "source": [
    "# get challenger, grandmaster list\n",
    "summoner_id_list = riot.get_challenger_list() + riot.get_grandmaster_list() + riot.get_master_list()\n",
    "count = 20\n",
    "\n",
    "# shuffle summoner_id_list\n",
    "summoner_id_list  = np.random.permutation(summoner_id_list)\n",
    "# match_id_list as heap queue\n",
    "match_id_list = []\n"
   ]
  },
  {
   "cell_type": "code",
   "execution_count": 4,
   "metadata": {},
   "outputs": [],
   "source": [
    "# file directory check\n",
    "import os\n",
    "if not os.path.exists(\"data\"):\n",
    "    os.makedirs(\"data\")\n",
    "\n",
    "if not os.path.exists(\"data/match\"):\n",
    "    os.makedirs(\"data/match\")\n",
    "\n",
    "if not os.path.exists(\"data/match_timeline\"):\n",
    "    os.makedirs(\"data/match_timeline\")"
   ]
  },
  {
   "cell_type": "code",
   "execution_count": 5,
   "metadata": {},
   "outputs": [],
   "source": [
    "# read match_id.csv\n",
    "df = pd.read_csv(\"data/match_id_list.csv\")\n",
    "match_id_list = list(df[\"match_id\"])\n",
    "time_stamp  = list(df[\"time_stamp\"])"
   ]
  },
  {
   "cell_type": "code",
   "execution_count": 6,
   "metadata": {},
   "outputs": [
    {
     "data": {
      "application/vnd.jupyter.widget-view+json": {
       "model_id": "d61f74ffad494d5aae1340e77ccc8f3f",
       "version_major": 2,
       "version_minor": 0
      },
      "text/plain": [
       "  0%|          | 0/6858 [00:00<?, ?it/s]"
      ]
     },
     "metadata": {},
     "output_type": "display_data"
    },
    {
     "data": {
      "application/vnd.jupyter.widget-view+json": {
       "model_id": "b89345cc096049b4889b004abd237ef1",
       "version_major": 2,
       "version_minor": 0
      },
      "text/plain": [
       "  0%|          | 0/20 [00:00<?, ?it/s]"
      ]
     },
     "metadata": {},
     "output_type": "display_data"
    }
   ],
   "source": [
    "from tqdm.notebook import tqdm\n",
    "p_bar1 = tqdm(summoner_id_list)\n",
    "p_bar2 = tqdm(range(count))\n",
    "\n",
    "for summoner_id in p_bar1:\n",
    "    # get puuid\n",
    "    puuid = riot.get_puuid(summoner_id['summonerId'])\n",
    "    # get match list\n",
    "    match_list = riot.get_match_list(puuid,count)\n",
    "    if match_list == None:\n",
    "        print(\"session expired\")\n",
    "        continue\n",
    "    \n",
    "    p_bar2.reset()\n",
    "    p_bar2.refresh()\n",
    "    for match_id in match_list:\n",
    "        p_bar2.set_postfix({\"# of data\": len(match_id_list)})\n",
    "        p_bar2.update(1)\n",
    "        p_bar2.refresh()\n",
    "        if match_id not in match_id_list:    \n",
    "            # get match timeline\n",
    "            match_timeline = riot.get_match_timeline(match_id)\n",
    "            if match_timeline == None:\n",
    "                print(\"session expired\")\n",
    "                break\n",
    "            # convert to json\n",
    "            match_tl_json = json.dumps(match_timeline)\n",
    "\n",
    "            # get match\n",
    "            match = riot.get_match(match_id)\n",
    "            if match == None:\n",
    "                print(\"session expired\")\n",
    "                break\n",
    "            # convert to json\n",
    "            match_json = json.dumps(match)\n",
    "\n",
    "            # save to file\n",
    "            with open(f'data/match_timeline/{match_id}.json', 'w') as f:\n",
    "                f.write(match_tl_json)\n",
    "                f.close()\n",
    "            # save to file\n",
    "            with open(f'data/match/{match_id}.json', 'w') as f:\n",
    "                f.write(match_json)\n",
    "                f.close()\n",
    "            match_id_list.append(match_id)\n",
    "            time_stamp.append(pd.Timestamp.now())\n",
    "            #len(match_id_list)\n",
    "        else:\n",
    "            continue\n",
    "    \n",
    "    df = pd.DataFrame({\"match_id\":match_id_list, \"time_stamp\":time_stamp})\n",
    "    df.to_csv(\"data/match_id_list.csv\",index=False)"
   ]
  }
 ],
 "metadata": {
  "kernelspec": {
   "display_name": "Python 3",
   "language": "python",
   "name": "python3"
  },
  "language_info": {
   "codemirror_mode": {
    "name": "ipython",
    "version": 3
   },
   "file_extension": ".py",
   "mimetype": "text/x-python",
   "name": "python",
   "nbconvert_exporter": "python",
   "pygments_lexer": "ipython3",
   "version": "3.9.6"
  }
 },
 "nbformat": 4,
 "nbformat_minor": 2
}
